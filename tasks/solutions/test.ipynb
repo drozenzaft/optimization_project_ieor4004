{
 "cells": [
  {
   "cell_type": "code",
   "execution_count": 35,
   "metadata": {},
   "outputs": [
    {
     "name": "stdout",
     "output_type": "stream",
     "text": [
      "not gaussian\n"
     ]
    },
    {
     "data": {
      "image/png": "[encoded data removed]",
      "text/plain": [
       "<Figure size 432x288 with 1 Axes>"
      ]
     },
     "metadata": {
      "needs_background": "light"
     },
     "output_type": "display_data"
    }
   ],
   "source": [
    "from numpy.random import seed\n",
    "from numpy.random import randn\n",
    "from scipy.stats import shapiro\n",
    "import numpy as np\n",
    "import pylab\n",
    "import scipy.stats as stats\n",
    "import seaborn as sns\n",
    "import math\n",
    "import scipy\n",
    "import pandas as pd\n",
    "import matplotlib.pyplot as plt\n",
    "from scipy.stats import weibull_max\n",
    "from scipy.stats import weibull_min\n",
    "\n",
    "\n",
    "with open('costs.txt') as f:\n",
    "    costs = f.read()\n",
    "cost_list = [float(c) for c in costs.strip('][').split(',')]  # 1000 costs\n",
    "cost_list = np.array(cost_list)\n",
    "\n",
    "# remove the outlier\n",
    "cost_list = cost_list[cost_list>5000000]  # remaining 998\n",
    "#cost_log = [math.log(c) for c in cost_list]\n",
    "\n",
    "# 1. Quantile-Quantile Plot\n",
    "stats.probplot(cost_list, dist=\"norm\", plot=pylab)\n",
    "\n",
    "# 2. Box Plot\n",
    "ax = sns.boxplot(x=cost_list)\n",
    "\n",
    "# 3. Shapiro-Wilk Test\n",
    "stat,p = shapiro(cost_list)\n",
    "if p>0.05:\n",
    "    print('probably guassian')\n",
    "else:\n",
    "    print('not gaussian')\n",
    "\n",
    "\n",
    "\n",
    "def check_distribution(y_std):\n",
    "    chi_square_statistics = []\n",
    "    # 11 equi-distant bins of observed Data\n",
    "    percentile_bins = np.linspace(0, 100, 101)\n",
    "    percentile_cutoffs = np.percentile(y_std, percentile_bins)\n",
    "    observed_frequency, bins = (np.histogram(y_std, bins=percentile_cutoffs))\n",
    "    cum_observed_frequency = np.cumsum(observed_frequency)\n",
    "    dist_names = ['weibull_min', 'norm', 'weibull_max', 'beta','invgauss', 'uniform', 'gamma', 'expon','lognorm',\n",
    "                  'pearson3','triang','exponweib']\n",
    "    # Loop through candidate distributions\n",
    "    for distribution in dist_names:\n",
    "        # Set up distribution and get fitted distribution parameters\n",
    "        dist = getattr(scipy.stats, distribution)\n",
    "        param = dist.fit(y_std)\n",
    "        print(\"{}\\n{}\\n\".format(dist, param))\n",
    "        # Get expected counts in percentile bins\n",
    "        # cdf of fitted sistrinution across bins\n",
    "        cdf_fitted = dist.cdf(percentile_cutoffs, *param)\n",
    "        expected_frequency = []\n",
    "        for bin in range(len(percentile_bins) - 1):\n",
    "            expected_cdf_area = cdf_fitted[bin + 1] - cdf_fitted[bin]\n",
    "            expected_frequency.append(expected_cdf_area)\n",
    "        # Chi-square Statistics\n",
    "        expected_frequency = np.array(expected_frequency) * 2\n",
    "        cum_expected_frequency = np.cumsum(expected_frequency)\n",
    "        ss = sum(((cum_expected_frequency - cum_observed_frequency) ** 2) / cum_observed_frequency)\n",
    "        chi_square_statistics.append(ss)\n",
    "    # Sort by minimum ch-square statistics\n",
    "    results = pd.DataFrame()\n",
    "    results['Distribution'] = dist_names\n",
    "    results['chi_square'] = chi_square_statistics\n",
    "    results.sort_values(['chi_square'], inplace=True)\n",
    "\n",
    "    print('\\nDistributions listed by Betterment of fit:')\n",
    "    print('............................................')\n",
    "    print(results)\n",
    "\n",
    "\n"
   ]
  },
  {
   "cell_type": "code",
   "execution_count": 37,
   "metadata": {},
   "outputs": [
    {
     "name": "stdout",
     "output_type": "stream",
     "text": [
      "<scipy.stats._continuous_distns.weibull_min_gen object at 0x7f9ea6f137c0>\n",
      "(0.08750924161360545, 5351295.367537488, 1.5879557252821324)\n",
      "\n",
      "<scipy.stats._continuous_distns.norm_gen object at 0x7f9ea6ee38e0>\n",
      "(5368994.313081956, 10756.4801668904)\n",
      "\n",
      "<scipy.stats._continuous_distns.weibull_max_gen object at 0x7f9ea6f13af0>\n",
      "(0.08118667708272817, 5404707.62751243, 1.4095673241191111)\n",
      "\n",
      "<scipy.stats._continuous_distns.beta_gen object at 0x7f9ea6eed2b0>\n",
      "(1.9196418411765577, 5.785009272587315, 5351202.019744287, 71580.37963557117)\n",
      "\n",
      "<scipy.stats._continuous_distns.invgauss_gen object at 0x7f9ea6f3eac0>\n",
      "(45.41569811565688, 5351277.256357461, 16.162626163884298)\n",
      "\n",
      "<scipy.stats._continuous_distns.uniform_gen object at 0x7f9ea6f88220>\n",
      "(5351295.367537489, 53412.25997493975)\n",
      "\n",
      "<scipy.stats._continuous_distns.gamma_gen object at 0x7f9ea6f1c820>\n",
      "(2.610976111280141, 5350932.519294126, 6917.6404660844155)\n",
      "\n",
      "<scipy.stats._continuous_distns.expon_gen object at 0x7f9ea6f062e0>\n",
      "(5351295.367537489, 17698.945544466376)\n",
      "\n",
      "<scipy.stats._continuous_distns.lognorm_gen object at 0x7f9ea6f51fd0>\n",
      "(7.4690339073937455, 5351295.367537488, 10.887538974133168)\n",
      "\n",
      "<scipy.stats._continuous_distns.pearson3_gen object at 0x7f9ea6f72400>\n",
      "(1.2377375130828736, 5368994.313146399, 11177.8799838201)\n",
      "\n",
      "<scipy.stats._continuous_distns.triang_gen object at 0x7f9ea6f8d850>\n",
      "(0.9999999999962592, 5328153.75466545, 76553.87284741322)\n",
      "\n",
      "<scipy.stats._continuous_distns.exponweib_gen object at 0x7f9ea6f06850>\n",
      "(1.2150859372885976, 0.09241553141463628, 5351295.367537488, 2.1314243241401254)\n",
      "\n",
      "\n",
      "Distributions listed by Betterment of fit:\n",
      "............................................\n",
      "   Distribution    chi_square\n",
      "8       lognorm  50116.118865\n",
      "11    exponweib  50131.307074\n",
      "0   weibull_min  50149.305557\n",
      "4      invgauss  50193.700330\n",
      "7         expon  50217.901319\n",
      "9      pearson3  50244.829437\n",
      "6         gamma  50244.829440\n",
      "3          beta  50247.753404\n",
      "1          norm  50273.421025\n",
      "5       uniform  50312.527996\n",
      "10       triang  50360.011465\n",
      "2   weibull_max  50440.636949\n"
     ]
    },
    {
     "name": "stderr",
     "output_type": "stream",
     "text": [
      "/Users/sabrina/opt/anaconda3/lib/python3.8/site-packages/scipy/stats/_continuous_distns.py:1678: RuntimeWarning: invalid value encountered in add\n",
      "  logp = (np.log(a) + np.log(c) + sc.xlogy(a - 1.0, exm1c) +\n"
     ]
    }
   ],
   "source": [
    "check_distribution(cost_list)"
   ]
  },
  {
   "cell_type": "code",
   "execution_count": 32,
   "metadata": {},
   "outputs": [
    {
     "data": {
      "text/plain": [
       "(0.08118667708272817, 5404707.62751243, 1.4095673241191111)"
      ]
     },
     "execution_count": 32,
     "metadata": {},
     "output_type": "execute_result"
    }
   ],
   "source": [
    "weibull_max.fit(cost_list)"
   ]
  },
  {
   "cell_type": "code",
   "execution_count": 28,
   "metadata": {},
   "outputs": [
    {
     "name": "stdout",
     "output_type": "stream",
     "text": [
      "0 1\n"
     ]
    },
    {
     "name": "stderr",
     "output_type": "stream",
     "text": [
      "/Users/sabrina/opt/anaconda3/lib/python3.8/site-packages/scipy/stats/_distn_infrastructure.py:1790: IntegrationWarning: Extremely bad integrand behavior occurs at some points of the\n",
      "  integration interval.\n",
      "  return integrate.quad(self._mom_integ1, 0, 1, args=(m,)+args)[0]\n",
      "/Users/sabrina/opt/anaconda3/lib/python3.8/site-packages/scipy/stats/_distn_infrastructure.py:1790: IntegrationWarning: The algorithm does not converge.  Roundoff error is detected\n",
      "  in the extrapolation table.  It is assumed that the requested tolerance\n",
      "  cannot be achieved, and that the returned result (if full_output = 1) is \n",
      "  the best which can be obtained.\n",
      "  return integrate.quad(self._mom_integ1, 0, 1, args=(m,)+args)[0]\n",
      "/Users/sabrina/opt/anaconda3/lib/python3.8/site-packages/scipy/stats/_distn_infrastructure.py:2494: RuntimeWarning: invalid value encountered in double_scalars\n",
      "  Lhat = muhat - Shat*mu\n"
     ]
    },
    {
     "ename": "ZeroDivisionError",
     "evalue": "division by zero",
     "output_type": "error",
     "traceback": [
      "\u001b[0;31m---------------------------------------------------------------------------\u001b[0m",
      "\u001b[0;31mZeroDivisionError\u001b[0m                         Traceback (most recent call last)",
      "\u001b[0;32m<ipython-input-28-4983df3dcf6f>\u001b[0m in \u001b[0;36m<module>\u001b[0;34m\u001b[0m\n\u001b[1;32m     11\u001b[0m \u001b[0;34m\u001b[0m\u001b[0m\n\u001b[1;32m     12\u001b[0m \u001b[0mx\u001b[0m \u001b[0;34m=\u001b[0m \u001b[0mnp\u001b[0m\u001b[0;34m.\u001b[0m\u001b[0mlinspace\u001b[0m\u001b[0;34m(\u001b[0m\u001b[0mcost_list\u001b[0m\u001b[0;34m.\u001b[0m\u001b[0mmin\u001b[0m\u001b[0;34m(\u001b[0m\u001b[0;34m)\u001b[0m\u001b[0;34m,\u001b[0m \u001b[0mcost_list\u001b[0m\u001b[0;34m.\u001b[0m\u001b[0mmax\u001b[0m\u001b[0;34m(\u001b[0m\u001b[0;34m)\u001b[0m\u001b[0;34m,\u001b[0m \u001b[0;36m1000\u001b[0m\u001b[0;34m)\u001b[0m\u001b[0;34m\u001b[0m\u001b[0;34m\u001b[0m\u001b[0m\n\u001b[0;32m---> 13\u001b[0;31m \u001b[0mplt\u001b[0m\u001b[0;34m.\u001b[0m\u001b[0mplot\u001b[0m\u001b[0;34m(\u001b[0m\u001b[0mx\u001b[0m\u001b[0;34m,\u001b[0m \u001b[0mweib\u001b[0m\u001b[0;34m(\u001b[0m\u001b[0mx\u001b[0m\u001b[0;34m,\u001b[0m \u001b[0mloc\u001b[0m\u001b[0;34m,\u001b[0m \u001b[0mscale\u001b[0m\u001b[0;34m)\u001b[0m\u001b[0;34m*\u001b[0m\u001b[0;36m100000\u001b[0m\u001b[0;34m)\u001b[0m\u001b[0;34m\u001b[0m\u001b[0;34m\u001b[0m\u001b[0m\n\u001b[0m\u001b[1;32m     14\u001b[0m \u001b[0;34m\u001b[0m\u001b[0m\n\u001b[1;32m     15\u001b[0m \u001b[0;34m\"\"\"Plot cost distribution on a histogram.\"\"\"\u001b[0m\u001b[0;34m\u001b[0m\u001b[0;34m\u001b[0m\u001b[0m\n",
      "\u001b[0;32m<ipython-input-28-4983df3dcf6f>\u001b[0m in \u001b[0;36mweib\u001b[0;34m(x, n, a)\u001b[0m\n\u001b[1;32m      4\u001b[0m \u001b[0;34m\u001b[0m\u001b[0m\n\u001b[1;32m      5\u001b[0m \u001b[0;32mdef\u001b[0m \u001b[0mweib\u001b[0m\u001b[0;34m(\u001b[0m\u001b[0mx\u001b[0m\u001b[0;34m,\u001b[0m\u001b[0mn\u001b[0m\u001b[0;34m,\u001b[0m\u001b[0ma\u001b[0m\u001b[0;34m)\u001b[0m\u001b[0;34m:\u001b[0m\u001b[0;34m\u001b[0m\u001b[0;34m\u001b[0m\u001b[0m\n\u001b[0;32m----> 6\u001b[0;31m     \u001b[0;32mreturn\u001b[0m \u001b[0;34m(\u001b[0m\u001b[0ma\u001b[0m \u001b[0;34m/\u001b[0m \u001b[0mn\u001b[0m\u001b[0;34m)\u001b[0m \u001b[0;34m*\u001b[0m \u001b[0;34m(\u001b[0m\u001b[0mx\u001b[0m \u001b[0;34m/\u001b[0m \u001b[0mn\u001b[0m\u001b[0;34m)\u001b[0m\u001b[0;34m**\u001b[0m\u001b[0;34m(\u001b[0m\u001b[0ma\u001b[0m \u001b[0;34m-\u001b[0m \u001b[0;36m1\u001b[0m\u001b[0;34m)\u001b[0m \u001b[0;34m*\u001b[0m \u001b[0mnp\u001b[0m\u001b[0;34m.\u001b[0m\u001b[0mexp\u001b[0m\u001b[0;34m(\u001b[0m\u001b[0;34m-\u001b[0m\u001b[0;34m(\u001b[0m\u001b[0mx\u001b[0m \u001b[0;34m/\u001b[0m \u001b[0mn\u001b[0m\u001b[0;34m)\u001b[0m\u001b[0;34m**\u001b[0m\u001b[0ma\u001b[0m\u001b[0;34m)\u001b[0m\u001b[0;34m\u001b[0m\u001b[0;34m\u001b[0m\u001b[0m\n\u001b[0m\u001b[1;32m      7\u001b[0m \u001b[0;34m\u001b[0m\u001b[0m\n\u001b[1;32m      8\u001b[0m \u001b[0;34m\u001b[0m\u001b[0m\n",
      "\u001b[0;31mZeroDivisionError\u001b[0m: division by zero"
     ]
    }
   ],
   "source": [
    "import scipy.stats as s\n",
    "import numpy as np\n",
    "import matplotlib.pyplot as plt\n",
    "\n",
    "def weib(x,n,a):\n",
    "    return (a / n) * (x / n)**(a - 1) * np.exp(-(x / n)**a)\n",
    "\n",
    "\n",
    "(loc, scale) = s.exponweib.fit_loc_scale(cost_list, 1, 0.08118667708272817)\n",
    "print (loc, scale)\n",
    "\n",
    "x = np.linspace(cost_list.min(), cost_list.max(), 1000)\n",
    "plt.plot(x, weib(x, loc, scale)*100000)\n",
    "\n",
    "\"\"\"Plot cost distribution on a histogram.\"\"\"\n",
    "\n",
    "plt.show()"
   ]
  },
  {
   "cell_type": "markdown",
   "metadata": {},
   "source": []
  },
  {
   "cell_type": "code",
   "execution_count": 19,
   "metadata": {},
   "outputs": [
    {
     "name": "stderr",
     "output_type": "stream",
     "text": [
      "<ipython-input-19-915e2eec8da0>:2: RuntimeWarning: invalid value encountered in power\n",
      "  return (a / n) * (-x / n)**(a - 1) * np.exp(-(-x / n)**a)\n"
     ]
    },
    {
     "data": {
      "image/png": "[encoded data removed]",
      "text/plain": [
       "<Figure size 432x288 with 1 Axes>"
      ]
     },
     "metadata": {
      "needs_background": "light"
     },
     "output_type": "display_data"
    },
    {
     "name": "stderr",
     "output_type": "stream",
     "text": [
      "No handles with labels found to put in legend.\n"
     ]
    },
    {
     "data": {
      "text/plain": [
       "<matplotlib.legend.Legend at 0x7fa68b3bbb50>"
      ]
     },
     "execution_count": 19,
     "metadata": {},
     "output_type": "execute_result"
    },
    {
     "data": {
      "image/png": "[encoded data removed]",
      "text/plain": [
       "<Figure size 432x288 with 1 Axes>"
      ]
     },
     "metadata": {
      "needs_background": "light"
     },
     "output_type": "display_data"
    },
    {
     "data": {
      "image/png": "[encoded data removed]",
      "text/plain": [
       "<Figure size 432x288 with 1 Axes>"
      ]
     },
     "metadata": {
      "needs_background": "light"
     },
     "output_type": "display_data"
    }
   ],
   "source": [
    "def weib(x,n,a):\n",
    "    return (a / n) * (-x / n)**(a - 1) * np.exp(-(-x / n)**a)\n",
    "x = np.linspace(cost_list.min(), cost_list.max(), 1000)\n",
    "#y = weibull_max.pdf(x, shape, loc, scale)\n",
    "plt.plot(x,weib(x,loc,scale))\n",
    "plt.show()\n",
    "\n",
    "c, loc, scale = weibull_max.fit(cost_list)\n",
    "fig, ax = plt.subplots(1, 1)\n",
    "ax.plot(x, weibull_max.pdf(x, c, loc, scale))\n",
    "\n",
    "fig, ax = plt.subplots(1, 1)\n",
    "c2 = c[c>=0]\n",
    "r = weibull_max.rvs(c2, loc, scale, size=1000)\n",
    "ax.hist(r, bins=100)\n",
    "ax.legend(loc='best', frameon=False)\n",
    "#ax.show()"
   ]
  },
  {
   "cell_type": "code",
   "execution_count": null,
   "metadata": {},
   "outputs": [],
   "source": []
  }
 ],
 "metadata": {
  "interpreter": {
   "hash": "6b347578783d0f3e385cc95f4f57f6b8bbac24a29871509f636bd87af7b408bc"
  },
  "kernelspec": {
   "display_name": "Python 3.8.8 64-bit ('base': conda)",
   "language": "python",
   "name": "python3"
  },
  "language_info": {
   "codemirror_mode": {
    "name": "ipython",
    "version": 3
   },
   "file_extension": ".py",
   "mimetype": "text/x-python",
   "name": "python",
   "nbconvert_exporter": "python",
   "pygments_lexer": "ipython3",
   "version": "3.8.8"
  },
  "orig_nbformat": 4
 },
 "nbformat": 4,
 "nbformat_minor": 2
}
